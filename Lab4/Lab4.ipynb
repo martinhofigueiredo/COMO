{
 "cells": [
  {
   "cell_type": "markdown",
   "metadata": {},
   "source": [
    ">Mobile Communications - FEUP - Network Simulation - WiFi\n",
    "\n",
    "# Objectives of the Project\n",
    "- To study the performance of wireless network (WiFi) scenarios \n",
    "using discrete event simulation techniques\n",
    "- Using the network simulator [ns-3](https://www.nsnam.org/)\n",
    "\n",
    "## Install and start using ns-3\n",
    "- Install VMware or VirtualBox in your computer\n",
    "- Install Ubuntu as a virtual machine and build ns-3 within Ubuntu \n",
    "- You may use 2 alternatives\n",
    "1. Download and run the Ubuntu-COMO image available at the netlab (via moodle)\n",
    "    - includes complied ns-3 software and examples\n",
    "2. Do it by yourself\n",
    "    - Download the latest version of Ubuntu and update it\n",
    "        `sudo apt-get update ; sudo apt-get build-essential`\n",
    "    - Install Python\n",
    "    - Build ns-3 according to the ns-3 installation recommendations\n",
    "    - Copy the provided examples (available in Moodle) to the scratch folder \n",
    "- Study the provided examples (one example for each study)\n",
    "- Additionally, you may also study other ns-3 tutorials\n",
    "- Look at the ns-3 modules related to our course: \n",
    "    - network, applications, wifi, propagation, mobility\n",
    "- Start your study by using the provided examples"
   ]
  },
  {
   "cell_type": "markdown",
   "metadata": {},
   "source": [
    "## __First Study - Throughput vs Distance__ "
   ]
  },
  {
   "cell_type": "markdown",
   "metadata": {},
   "source": [
    "---\n",
    "### 1 AP, 1 STA\n",
    "---\n",
    "- Assume that both the AP and the STA have full TCP/IP stacks\n",
    "- It simplifies the simulation script\n",
    "- Let the STA generate one TCP flow towards the AP\n",
    "- Carry out simulations for different distances between the STA and the AP\n",
    "- For each distance measure the average throughput obtained by the flow\n",
    "-Throughput (in bit/s) is measured at the node that receiving the information \n",
    "- Use both flowmon and wireshark to characterize throughputs Flowmon enables you to obtain relevant statistics, including histograms Wireshark enables you to observe packets along the time, including the TCP congestion control mechanism in action\n",
    "- Represent results as a  function of distance\n",
    "First Study -Throughput vs distance\n",
    "---\n",
    "Notes:\n",
    "\n",
    "- You may start at 100m. Lower `distances` result in about the same effective TCP throughput. \n",
    "- The maximum link `distance` is expected to be around 1450m. At 1500m there is no connectivity.\n",
    "- You may collect results with steps of 100m between 100m and 1500m. Decrease the step size if more resolution is needed for the resulting plot($s$).\n",
    "\n",
    "The default settings are:\n",
    "> ```duration=10``` ($s$)\n",
    ">\n",
    "> ```distance=100``` ($m$)\n",
    "\n",
    "You may change the parameters directly in the code and run the scenario without any argument:\n",
    "\n",
    "```./waf --run \"scratch/first_study\"```\n",
    "\n",
    "or feed the `distance` ($m$) between nodes and the `duraton` of the flow ($s$) you want to simulate via command line arguments:\n",
    "\n",
    "```./waf --run \"scratch/first_study --distance=100 --duration=60\"```\n"
   ]
  },
  {
   "cell_type": "code",
   "execution_count": null,
   "metadata": {},
   "outputs": [],
   "source": [
    "import subprocess\n",
    "import re\n",
    "import pandas as pd\n",
    "import numpy as np\n",
    "import plotly.express as px\n",
    "\n",
    "# Defining variables to use for the study\n",
    "default = True\n",
    "\n",
    "print('First Study\\n')\n",
    "\n",
    "if(default): # \n",
    "    start = 100\n",
    "    stop = 1500\n",
    "    step = 100\n",
    "    duration = 1\n",
    "    distance = start\n",
    "else:\n",
    "    start = input('Limite Min?')\n",
    "    stop = input('Limite Max?')\n",
    "    step = input('Passo?')\n",
    "    duration = input('Duracao?')\n",
    "    \n",
    "\n",
    "regex = r\"       Throughput: (\\d+\\.\\d+) Kbps\"\n",
    "\n",
    "rx = re.compile(regex)\n",
    "\n",
    "df = pd.DataFrame(columns=['Flow1','Flow2','Distance'],dtype= np.float64)\n",
    "\n",
    "for distance in range(start,stop,step):\n",
    "    i = int (distance - start)/step \n",
    "    print(f'Distance is {distance}m, iteration {i}, running command:\\n    ./waf --run \"scratch/first_study --distance={distance} --duration={duration}\"')\n",
    "    process = subprocess.run([f'./waf --run \"scratch/first_study --distance={distance} --duration={duration}\"'], shell=True, check=True, stdout=subprocess.PIPE, universal_newlines=True)\n",
    "    output = rx.findall(process.stdout)\n",
    "    df.loc[i] = output+[distance]\n",
    "    print(f'Throughput Results:\\n    Flow 1 -> {output[0]} Kbps\\n    Flow 2 -> {output[1]} Kbps\\n\\n')\n",
    "\n",
    "\n",
    "\n",
    "fig = px.line(df, x=\"Distance\", y=[\"Flow1\",\"Flow2\"], title='Throughput vs Distance')\n",
    "fig.show()"
   ]
  },
  {
   "cell_type": "markdown",
   "metadata": {},
   "source": [
    "## __Second Study - Throughput vs number of STAs__"
   ]
  },
  {
   "cell_type": "markdown",
   "metadata": {},
   "source": [
    "---\n",
    "### 1 AP, n STA\n",
    "---\n",
    "\n",
    " Assume again that both the AP and the STAs have full TCP/IP stacks\n",
    "- Each STA generates one TCP flow  towards the AP\n",
    "- Carry out simulations for variable numbers of STA located around the AP\n",
    "- same distance for all STA, circumference around AP\n",
    "- For each number of STAs measure the throughput obtained by stations\n",
    "- aggregated (sum of all stations) and average\n",
    "- Represent results as a function of number of STAs\n",
    "---\n",
    "- The coded scenario starts each flow to the sink node between t=2.0s and t=4.0s of simulation time, to avoid collisions.\n",
    "- Try to simulate using longer `durations` so that the TCP throughput of each flow has a chance of stabilizing.\n",
    "- You may simulate, for example, up to 15 nodes. When increasing the number of senders, some TCP connection establishments may timeout, leaving some senders idle throughout the simulation.\n",
    "\n",
    "The default settings are:\n",
    "> ```duration=10``` ($s$)\n",
    ">\n",
    "> ```nr_of_senders=2``` ($nodes$)\n",
    "\n",
    "You may change the parameters directly in the code and run the scenario without any argument:\n",
    "\n",
    "```./waf --run \"scratch/second_study\"```\n",
    "\n",
    "or feed the `duration` of each flow ($s$) and the `number` of sender nodes you want to simulate via command line arguments:\n",
    "\n",
    "```./waf --run \"scratch/second_study --duration=60  --nr_of_senders=10\"```\n"
   ]
  },
  {
   "cell_type": "code",
   "execution_count": null,
   "metadata": {},
   "outputs": [],
   "source": [
    "import subprocess\n",
    "import re\n",
    "import pandas as pd\n",
    "import numpy as np\n",
    "\n",
    "# Defining variables to use for the study\n",
    "default = True\n",
    "\n",
    "\n",
    "print('Second Study\\n')\n",
    "\n",
    "if(default): # \n",
    "    start = 1\n",
    "    stop = 5\n",
    "    step = 1\n",
    "    duration = 1\n",
    "else:\n",
    "    start = input('Limite Min?')\n",
    "    stop = input('Limite Max?')\n",
    "    step = input('Passo?')\n",
    "    duration = input('Duracao?')\n",
    "\n",
    "regex = r\"       Throughput: (\\d+\\.\\d+) Kbps\"\n",
    "rx = re.compile(regex)\n",
    "\n",
    "df = pd.DataFrame(columns=['Nodes'],dtype= np.float64)\n",
    "\n",
    "for nodes in range(start,stop+step,step):\n",
    "    i = int (nodes- start)/step \n",
    "    print(f'Duration is {duration}m, nodes {nodes}, running command:\\n    ./waf --run \"scratch/second_study --duration={duration} --nr_of_senders={nodes}\"')\n",
    "    process = subprocess.run([f'./waf --run \"scratch/second_study --duration={duration} --nr_of_senders={nodes}\"'], shell=True, check=True, stdout=subprocess.PIPE, universal_newlines=True)\n",
    "    output = rx.findall(process.stdout)\n",
    "    print(process.stdout)\n",
    "    print(output)\n",
    "    #df.loc[i] = [nodes]+output    \n",
    "    #print(f'Throughput Results:\\n    Flow 1 -> {output[0]} Kbps\\n    Flow 2 -> {output[1]} Kbps\\n\\n')\n"
   ]
  },
  {
   "cell_type": "markdown",
   "metadata": {},
   "source": [
    "## __Third Study - TCP Throughput vs UDP bitrate__"
   ]
  },
  {
   "cell_type": "markdown",
   "metadata": {},
   "source": [
    "---\n",
    "### 1 AP , 2 STA\n",
    "---\n",
    "- One STA generates one TCP flow towards the AP\n",
    "- The other STA generates a Constant BitRate UDP flow towards the AP \n",
    "- two ports in AP, one for each STA\n",
    "- Same distance for both STAs; the nodes can listen to each other\n",
    "- Carry out simulations for different bitrates generated by the UDP STA\n",
    "- Measure throughputs, delays and packet losses\n",
    "- Represent results as functions of the bitrate generated by the UDP STA\n",
    "---\n",
    "- Start the UDP flow at 1Mbit/s and increase it by 1Mbit/s steps until the link capacity is clearly exceeded (i.e., the UDP throughput at the sink node will stabilize, independently of how much more traffic is offered at the sender because it is lost).\n",
    "- When analysing the results, the node with ip=10.0.0.3 is the node sending the UDP flow.\n",
    "\n",
    "The default settings are:\n",
    "> `duration=10` ($s$)\n",
    ">\n",
    "> `udp_data_rate=1Mbps` \n",
    "\n",
    "You may change the parameters directly in the code and run the scenario without any argument:\n",
    "\n",
    "```./waf --run \"scratch/third_study\"```\n",
    "\n",
    "or feed the duration of the TCP and UDP flows ($s$) and the UDP data rate via command line arguments:\n",
    "\n",
    "```./waf --run \"scratch/third_study --duration=60  --udp_data_rate=1Mbps\"```\n"
   ]
  },
  {
   "cell_type": "code",
   "execution_count": null,
   "metadata": {},
   "outputs": [],
   "source": [
    "import subprocess\n",
    "import re\n",
    "import pandas as pd\n",
    "import numpy as np\n",
    "\n",
    "# Defining variables to use for the study\n",
    "default = True\n",
    "\n",
    "\n",
    "print('--- Third Study ---\\n')\n",
    "\n",
    "if(default): # \n",
    "    start = 1\n",
    "    stop = 15\n",
    "    step = 1\n",
    "    duration = 1\n",
    "else:\n",
    "    start = input('Limite Min?')\n",
    "    stop = input('Limite Max?')\n",
    "    step = input('Passo?')\n",
    "    duration = input('Duracao?')\n",
    "    \n",
    "udpdr = start\n",
    "regex = r\"       Throughput: (\\d+\\.\\d+) Kbps\"\n",
    "rx = re.compile(regex)\n",
    "#df = pd.DataFrame(columns=['Flow1','Flow2','Distance'],dtype= np.float64)\n",
    "for udpr in range(start,stop+step,step):\n",
    "    i = int (distance- start)/step \n",
    "    print(f' # {i} -_Duration is {duration}m, UDP Data Rates {udpdr}Mbps, running command:\\n    ./waf --run \"scratch/third_study --duration={duration} --udp_data_rate={udpdr}Mbps\"')\n",
    "    process = subprocess.run([f'./waf --run \"scratch/third_study --duration={duration} --udp_data_rate={udpdr}Mbps\"'], shell=True, check=True, stdout=subprocess.PIPE, universal_newlines=True)\n",
    "    output = rx.findall(process.stdout)\n",
    "    print(process.stdout)\n",
    "    print(output)\n",
    "    #df.loc[i] = output+[distance]\n",
    "    #print(f'Throughput Results:\\n    Flow 1 -> {output[0]} Kbps\\n    Flow 2 -> {output[1]} Kbps\\n\\n')\n"
   ]
  },
  {
   "cell_type": "markdown",
   "metadata": {},
   "source": [
    "## __Fourth Study – Throughput vs distance with relay__"
   ]
  },
  {
   "cell_type": "markdown",
   "metadata": {},
   "source": [
    "---\n",
    "### 1 AP, 1 RELAY, 1 STA, positioned in a line\n",
    "---\n",
    "- AP and the STA have full TCP/IP stacks\n",
    "- STA generates one TCP flow towards the AP\n",
    "    - The flow should be sent via the RELAY node\n",
    "- Carry out simulations for different distances d, considering\n",
    "    - `DistanceAP-STA= d |    DistanceAP-RELAY = DistanceRELAY-STA = d/2`\n",
    "- For each distance measure the average throughput obtained by the flow\n",
    "    - Throughput (in bit/s) measured at the AP\n",
    "- Represent results as a function of distance\n",
    "- Compare the results with the results obtained in the First Study\n",
    "- In which situations should a relay node be used? Why?\n",
    "---\n",
    "- You may start at 100m. Lower distances result in the same effective TCP throughput.\n",
    "- The maximum `distance` between the sender and the sink is expected to be around 2900m. At 3000m there is no connectivity.\n",
    "- You may collect results with steps of 100m between 100m and 3200m. Decrease the step size if more resolution is needed for the resulting plot($s$).\n",
    "- Compare the results with the ones obtained in the first study. Place them side by side in the same plot and elaborate some conclusions.\n",
    "\n",
    "The default settings are:\n",
    "> `duration=10` ($s$)\n",
    ">\n",
    "> `distance=100` ($m$)\n",
    "\n",
    "You may change the parameters directly in the code and run the scenario without any argument:\n",
    "\n",
    "`./waf --run \"scratch/fourth_study`\n",
    "\n",
    "or feed the `distance` ($m$) between sender and sink nodes (relay is placed at `distance/2`) and the duraton of the flow ($s$) you want to simulate via command line arguments:\n",
    "\n",
    "`./waf --run \"scratch/fourth_study --distance=100 --duration=60\"`"
   ]
  },
  {
   "cell_type": "code",
   "execution_count": 3,
   "metadata": {},
   "outputs": [
    {
     "name": "stdout",
     "output_type": "stream",
     "text": [
      "--- Fourth Study ---\n",
      "\n",
      "#0.0 Distance is 100m, duration 1, running command:\n",
      "    ./waf --run \"scratch/fourth_study --distance=100 --duration=1\"\n",
      "Throughput Results:\n",
      "    Flow 1 -> 11228.8 Kbps\n",
      "    Flow 2 -> 197.522 Kbps\n",
      "\n",
      "\n",
      "#1.0 Distance is 200m, duration 1, running command:\n",
      "    ./waf --run \"scratch/fourth_study --distance=200 --duration=1\"\n",
      "Throughput Results:\n",
      "    Flow 1 -> 10972.4 Kbps\n",
      "    Flow 2 -> 193.063 Kbps\n",
      "\n",
      "\n",
      "#2.0 Distance is 300m, duration 1, running command:\n",
      "    ./waf --run \"scratch/fourth_study --distance=300 --duration=1\"\n",
      "Throughput Results:\n",
      "    Flow 1 -> 11231.2 Kbps\n",
      "    Flow 2 -> 197.585 Kbps\n",
      "\n",
      "\n",
      "#3.0 Distance is 400m, duration 1, running command:\n",
      "    ./waf --run \"scratch/fourth_study --distance=400 --duration=1\"\n",
      "Throughput Results:\n",
      "    Flow 1 -> 7581.37 Kbps\n",
      "    Flow 2 -> 133.725 Kbps\n",
      "\n",
      "\n",
      "#4.0 Distance is 500m, duration 1, running command:\n",
      "    ./waf --run \"scratch/fourth_study --distance=500 --duration=1\"\n",
      "Throughput Results:\n",
      "    Flow 1 -> 5583.67 Kbps\n",
      "    Flow 2 -> 98.8276 Kbps\n",
      "\n",
      "\n",
      "#5.0 Distance is 600m, duration 1, running command:\n",
      "    ./waf --run \"scratch/fourth_study --distance=600 --duration=1\"\n",
      "Throughput Results:\n",
      "    Flow 1 -> 7074.5 Kbps\n",
      "    Flow 2 -> 124.909 Kbps\n",
      "\n",
      "\n",
      "#6.0 Distance is 700m, duration 1, running command:\n",
      "    ./waf --run \"scratch/fourth_study --distance=700 --duration=1\"\n",
      "Throughput Results:\n",
      "    Flow 1 -> 6072.15 Kbps\n",
      "    Flow 2 -> 107.228 Kbps\n",
      "\n",
      "\n",
      "#7.0 Distance is 800m, duration 1, running command:\n",
      "    ./waf --run \"scratch/fourth_study --distance=800 --duration=1\"\n",
      "Throughput Results:\n",
      "    Flow 1 -> 5206.81 Kbps\n",
      "    Flow 2 -> 91.8209 Kbps\n",
      "\n",
      "\n",
      "#8.0 Distance is 900m, duration 1, running command:\n",
      "    ./waf --run \"scratch/fourth_study --distance=900 --duration=1\"\n",
      "Throughput Results:\n",
      "    Flow 1 -> 5602.2 Kbps\n",
      "    Flow 2 -> 99.1149 Kbps\n",
      "\n",
      "\n",
      "#9.0 Distance is 1000m, duration 1, running command:\n",
      "    ./waf --run \"scratch/fourth_study --distance=1000 --duration=1\"\n",
      "Throughput Results:\n",
      "    Flow 1 -> 4908.25 Kbps\n",
      "    Flow 2 -> 86.8096 Kbps\n",
      "\n",
      "\n",
      "#10.0 Distance is 1100m, duration 1, running command:\n",
      "    ./waf --run \"scratch/fourth_study --distance=1100 --duration=1\"\n",
      "Throughput Results:\n",
      "    Flow 1 -> 4707.85 Kbps\n",
      "    Flow 2 -> 83.5459 Kbps\n",
      "\n",
      "\n",
      "#11.0 Distance is 1200m, duration 1, running command:\n",
      "    ./waf --run \"scratch/fourth_study --distance=1200 --duration=1\"\n",
      "Throughput Results:\n",
      "    Flow 1 -> 4869.75 Kbps\n",
      "    Flow 2 -> 86.3059 Kbps\n",
      "\n",
      "\n",
      "#12.0 Distance is 1300m, duration 1, running command:\n",
      "    ./waf --run \"scratch/fourth_study --distance=1300 --duration=1\"\n",
      "Throughput Results:\n",
      "    Flow 1 -> 4566.73 Kbps\n",
      "    Flow 2 -> 80.9936 Kbps\n",
      "\n",
      "\n",
      "#13.0 Distance is 1400m, duration 1, running command:\n",
      "    ./waf --run \"scratch/fourth_study --distance=1400 --duration=1\"\n",
      "Throughput Results:\n",
      "    Flow 1 -> 4753.26 Kbps\n",
      "    Flow 2 -> 84.3049 Kbps\n",
      "\n",
      "\n",
      "#14.0 Distance is 1500m, duration 1, running command:\n",
      "    ./waf --run \"scratch/fourth_study --distance=1500 --duration=1\"\n",
      "Throughput Results:\n",
      "    Flow 1 -> 3246.48 Kbps\n",
      "    Flow 2 -> 55.132 Kbps\n",
      "\n",
      "\n",
      "#15.0 Distance is 1600m, duration 1, running command:\n",
      "    ./waf --run \"scratch/fourth_study --distance=1600 --duration=1\"\n",
      "Throughput Results:\n",
      "    Flow 1 -> 2561.41 Kbps\n",
      "    Flow 2 -> 44.4647 Kbps\n",
      "\n",
      "\n",
      "#16.0 Distance is 1700m, duration 1, running command:\n",
      "    ./waf --run \"scratch/fourth_study --distance=1700 --duration=1\"\n",
      "Throughput Results:\n",
      "    Flow 1 -> 2416.74 Kbps\n",
      "    Flow 2 -> 40.2806 Kbps\n",
      "\n",
      "\n",
      "#17.0 Distance is 1800m, duration 1, running command:\n",
      "    ./waf --run \"scratch/fourth_study --distance=1800 --duration=1\"\n",
      "Throughput Results:\n",
      "    Flow 1 -> 2044.78 Kbps\n",
      "    Flow 2 -> 27.0361 Kbps\n",
      "\n",
      "\n",
      "#18.0 Distance is 1900m, duration 1, running command:\n",
      "    ./waf --run \"scratch/fourth_study --distance=1900 --duration=1\"\n",
      "Throughput Results:\n",
      "    Flow 1 -> 1967.47 Kbps\n",
      "    Flow 2 -> 24.6587 Kbps\n",
      "\n",
      "\n",
      "#19.0 Distance is 2000m, duration 1, running command:\n",
      "    ./waf --run \"scratch/fourth_study --distance=2000 --duration=1\"\n",
      "Throughput Results:\n",
      "    Flow 1 -> 2435.03 Kbps\n",
      "    Flow 2 -> 38.3885 Kbps\n",
      "\n",
      "\n",
      "#20.0 Distance is 2100m, duration 1, running command:\n",
      "    ./waf --run \"scratch/fourth_study --distance=2100 --duration=1\"\n",
      "Throughput Results:\n",
      "    Flow 1 -> 2323.94 Kbps\n",
      "    Flow 2 -> 36.2893 Kbps\n",
      "\n",
      "\n",
      "#21.0 Distance is 2200m, duration 1, running command:\n",
      "    ./waf --run \"scratch/fourth_study --distance=2200 --duration=1\"\n",
      "Throughput Results:\n",
      "    Flow 1 -> 1477.78 Kbps\n",
      "    Flow 2 -> 20.2507 Kbps\n",
      "\n",
      "\n",
      "#22.0 Distance is 2300m, duration 1, running command:\n",
      "    ./waf --run \"scratch/fourth_study --distance=2300 --duration=1\"\n",
      "Throughput Results:\n",
      "    Flow 1 -> 1338.7 Kbps\n",
      "    Flow 2 -> 20.1479 Kbps\n",
      "\n",
      "\n",
      "#23.0 Distance is 2400m, duration 1, running command:\n",
      "    ./waf --run \"scratch/fourth_study --distance=2400 --duration=1\"\n",
      "Throughput Results:\n",
      "    Flow 1 -> 1007.55 Kbps\n",
      "    Flow 2 -> 25.5224 Kbps\n",
      "\n",
      "\n",
      "#24.0 Distance is 2500m, duration 1, running command:\n",
      "    ./waf --run \"scratch/fourth_study --distance=2500 --duration=1\"\n",
      "Throughput Results:\n",
      "    Flow 1 -> 1612.79 Kbps\n",
      "    Flow 2 -> 21.9325 Kbps\n",
      "\n",
      "\n",
      "#25.0 Distance is 2600m, duration 1, running command:\n",
      "    ./waf --run \"scratch/fourth_study --distance=2600 --duration=1\"\n",
      "Throughput Results:\n",
      "    Flow 1 -> 1002.6 Kbps\n",
      "    Flow 2 -> 23.444 Kbps\n",
      "\n",
      "\n",
      "#26.0 Distance is 2700m, duration 1, running command:\n",
      "    ./waf --run \"scratch/fourth_study --distance=2700 --duration=1\"\n",
      "Throughput Results:\n",
      "    Flow 1 -> 257.243 Kbps\n",
      "    Flow 2 -> 7.46867 Kbps\n",
      "\n",
      "\n",
      "#27.0 Distance is 2800m, duration 1, running command:\n",
      "    ./waf --run \"scratch/fourth_study --distance=2800 --duration=1\"\n",
      "Throughput Results:\n",
      "    Flow 1 -> 254.067 Kbps\n",
      "    Flow 2 -> 7.20101 Kbps\n",
      "\n",
      "\n",
      "#28.0 Distance is 2900m, duration 1, running command:\n",
      "    ./waf --run \"scratch/fourth_study --distance=2900 --duration=1\"\n",
      "Throughput Results:\n",
      "    Flow 1 -> 247.059 Kbps\n",
      "    Flow 2 -> 8.80365 Kbps\n",
      "\n",
      "\n"
     ]
    },
    {
     "data": {
      "application/vnd.plotly.v1+json": {
       "config": {
        "plotlyServerURL": "https://plot.ly"
       },
       "data": [
        {
         "hovertemplate": "variable=Flow1<br>Distance=%{x}<br>value=%{y}<extra></extra>",
         "legendgroup": "Flow1",
         "line": {
          "color": "#636efa",
          "dash": "solid"
         },
         "marker": {
          "symbol": "circle"
         },
         "mode": "lines",
         "name": "Flow1",
         "orientation": "h",
         "showlegend": true,
         "type": "scatter",
         "x": [
          100,
          200,
          300,
          400,
          500,
          600,
          700,
          800,
          900,
          1000,
          1100,
          1200,
          1300,
          1400,
          1500,
          1600,
          1700,
          1800,
          1900,
          2000,
          2100,
          2200,
          2300,
          2400,
          2500,
          2600,
          2700,
          2800,
          2900
         ],
         "xaxis": "x",
         "y": [
          "11228.8",
          "10972.4",
          "11231.2",
          "7581.37",
          "5583.67",
          "7074.5",
          "6072.15",
          "5206.81",
          "5602.2",
          "4908.25",
          "4707.85",
          "4869.75",
          "4566.73",
          "4753.26",
          "3246.48",
          "2561.41",
          "2416.74",
          "2044.78",
          "1967.47",
          "2435.03",
          "2323.94",
          "1477.78",
          "1338.7",
          "1007.55",
          "1612.79",
          "1002.6",
          "257.243",
          "254.067",
          "247.059"
         ],
         "yaxis": "y"
        },
        {
         "hovertemplate": "variable=Flow2<br>Distance=%{x}<br>value=%{y}<extra></extra>",
         "legendgroup": "Flow2",
         "line": {
          "color": "#EF553B",
          "dash": "solid"
         },
         "marker": {
          "symbol": "circle"
         },
         "mode": "lines",
         "name": "Flow2",
         "orientation": "h",
         "showlegend": true,
         "type": "scatter",
         "x": [
          100,
          200,
          300,
          400,
          500,
          600,
          700,
          800,
          900,
          1000,
          1100,
          1200,
          1300,
          1400,
          1500,
          1600,
          1700,
          1800,
          1900,
          2000,
          2100,
          2200,
          2300,
          2400,
          2500,
          2600,
          2700,
          2800,
          2900
         ],
         "xaxis": "x",
         "y": [
          "197.522",
          "193.063",
          "197.585",
          "133.725",
          "98.8276",
          "124.909",
          "107.228",
          "91.8209",
          "99.1149",
          "86.8096",
          "83.5459",
          "86.3059",
          "80.9936",
          "84.3049",
          "55.132",
          "44.4647",
          "40.2806",
          "27.0361",
          "24.6587",
          "38.3885",
          "36.2893",
          "20.2507",
          "20.1479",
          "25.5224",
          "21.9325",
          "23.444",
          "7.46867",
          "7.20101",
          "8.80365"
         ],
         "yaxis": "y"
        }
       ],
       "layout": {
        "legend": {
         "title": {
          "text": "variable"
         },
         "tracegroupgap": 0
        },
        "template": {
         "data": {
          "bar": [
           {
            "error_x": {
             "color": "#2a3f5f"
            },
            "error_y": {
             "color": "#2a3f5f"
            },
            "marker": {
             "line": {
              "color": "#E5ECF6",
              "width": 0.5
             },
             "pattern": {
              "fillmode": "overlay",
              "size": 10,
              "solidity": 0.2
             }
            },
            "type": "bar"
           }
          ],
          "barpolar": [
           {
            "marker": {
             "line": {
              "color": "#E5ECF6",
              "width": 0.5
             },
             "pattern": {
              "fillmode": "overlay",
              "size": 10,
              "solidity": 0.2
             }
            },
            "type": "barpolar"
           }
          ],
          "carpet": [
           {
            "aaxis": {
             "endlinecolor": "#2a3f5f",
             "gridcolor": "white",
             "linecolor": "white",
             "minorgridcolor": "white",
             "startlinecolor": "#2a3f5f"
            },
            "baxis": {
             "endlinecolor": "#2a3f5f",
             "gridcolor": "white",
             "linecolor": "white",
             "minorgridcolor": "white",
             "startlinecolor": "#2a3f5f"
            },
            "type": "carpet"
           }
          ],
          "choropleth": [
           {
            "colorbar": {
             "outlinewidth": 0,
             "ticks": ""
            },
            "type": "choropleth"
           }
          ],
          "contour": [
           {
            "colorbar": {
             "outlinewidth": 0,
             "ticks": ""
            },
            "colorscale": [
             [
              0,
              "#0d0887"
             ],
             [
              0.1111111111111111,
              "#46039f"
             ],
             [
              0.2222222222222222,
              "#7201a8"
             ],
             [
              0.3333333333333333,
              "#9c179e"
             ],
             [
              0.4444444444444444,
              "#bd3786"
             ],
             [
              0.5555555555555556,
              "#d8576b"
             ],
             [
              0.6666666666666666,
              "#ed7953"
             ],
             [
              0.7777777777777778,
              "#fb9f3a"
             ],
             [
              0.8888888888888888,
              "#fdca26"
             ],
             [
              1,
              "#f0f921"
             ]
            ],
            "type": "contour"
           }
          ],
          "contourcarpet": [
           {
            "colorbar": {
             "outlinewidth": 0,
             "ticks": ""
            },
            "type": "contourcarpet"
           }
          ],
          "heatmap": [
           {
            "colorbar": {
             "outlinewidth": 0,
             "ticks": ""
            },
            "colorscale": [
             [
              0,
              "#0d0887"
             ],
             [
              0.1111111111111111,
              "#46039f"
             ],
             [
              0.2222222222222222,
              "#7201a8"
             ],
             [
              0.3333333333333333,
              "#9c179e"
             ],
             [
              0.4444444444444444,
              "#bd3786"
             ],
             [
              0.5555555555555556,
              "#d8576b"
             ],
             [
              0.6666666666666666,
              "#ed7953"
             ],
             [
              0.7777777777777778,
              "#fb9f3a"
             ],
             [
              0.8888888888888888,
              "#fdca26"
             ],
             [
              1,
              "#f0f921"
             ]
            ],
            "type": "heatmap"
           }
          ],
          "heatmapgl": [
           {
            "colorbar": {
             "outlinewidth": 0,
             "ticks": ""
            },
            "colorscale": [
             [
              0,
              "#0d0887"
             ],
             [
              0.1111111111111111,
              "#46039f"
             ],
             [
              0.2222222222222222,
              "#7201a8"
             ],
             [
              0.3333333333333333,
              "#9c179e"
             ],
             [
              0.4444444444444444,
              "#bd3786"
             ],
             [
              0.5555555555555556,
              "#d8576b"
             ],
             [
              0.6666666666666666,
              "#ed7953"
             ],
             [
              0.7777777777777778,
              "#fb9f3a"
             ],
             [
              0.8888888888888888,
              "#fdca26"
             ],
             [
              1,
              "#f0f921"
             ]
            ],
            "type": "heatmapgl"
           }
          ],
          "histogram": [
           {
            "marker": {
             "pattern": {
              "fillmode": "overlay",
              "size": 10,
              "solidity": 0.2
             }
            },
            "type": "histogram"
           }
          ],
          "histogram2d": [
           {
            "colorbar": {
             "outlinewidth": 0,
             "ticks": ""
            },
            "colorscale": [
             [
              0,
              "#0d0887"
             ],
             [
              0.1111111111111111,
              "#46039f"
             ],
             [
              0.2222222222222222,
              "#7201a8"
             ],
             [
              0.3333333333333333,
              "#9c179e"
             ],
             [
              0.4444444444444444,
              "#bd3786"
             ],
             [
              0.5555555555555556,
              "#d8576b"
             ],
             [
              0.6666666666666666,
              "#ed7953"
             ],
             [
              0.7777777777777778,
              "#fb9f3a"
             ],
             [
              0.8888888888888888,
              "#fdca26"
             ],
             [
              1,
              "#f0f921"
             ]
            ],
            "type": "histogram2d"
           }
          ],
          "histogram2dcontour": [
           {
            "colorbar": {
             "outlinewidth": 0,
             "ticks": ""
            },
            "colorscale": [
             [
              0,
              "#0d0887"
             ],
             [
              0.1111111111111111,
              "#46039f"
             ],
             [
              0.2222222222222222,
              "#7201a8"
             ],
             [
              0.3333333333333333,
              "#9c179e"
             ],
             [
              0.4444444444444444,
              "#bd3786"
             ],
             [
              0.5555555555555556,
              "#d8576b"
             ],
             [
              0.6666666666666666,
              "#ed7953"
             ],
             [
              0.7777777777777778,
              "#fb9f3a"
             ],
             [
              0.8888888888888888,
              "#fdca26"
             ],
             [
              1,
              "#f0f921"
             ]
            ],
            "type": "histogram2dcontour"
           }
          ],
          "mesh3d": [
           {
            "colorbar": {
             "outlinewidth": 0,
             "ticks": ""
            },
            "type": "mesh3d"
           }
          ],
          "parcoords": [
           {
            "line": {
             "colorbar": {
              "outlinewidth": 0,
              "ticks": ""
             }
            },
            "type": "parcoords"
           }
          ],
          "pie": [
           {
            "automargin": true,
            "type": "pie"
           }
          ],
          "scatter": [
           {
            "fillpattern": {
             "fillmode": "overlay",
             "size": 10,
             "solidity": 0.2
            },
            "type": "scatter"
           }
          ],
          "scatter3d": [
           {
            "line": {
             "colorbar": {
              "outlinewidth": 0,
              "ticks": ""
             }
            },
            "marker": {
             "colorbar": {
              "outlinewidth": 0,
              "ticks": ""
             }
            },
            "type": "scatter3d"
           }
          ],
          "scattercarpet": [
           {
            "marker": {
             "colorbar": {
              "outlinewidth": 0,
              "ticks": ""
             }
            },
            "type": "scattercarpet"
           }
          ],
          "scattergeo": [
           {
            "marker": {
             "colorbar": {
              "outlinewidth": 0,
              "ticks": ""
             }
            },
            "type": "scattergeo"
           }
          ],
          "scattergl": [
           {
            "marker": {
             "colorbar": {
              "outlinewidth": 0,
              "ticks": ""
             }
            },
            "type": "scattergl"
           }
          ],
          "scattermapbox": [
           {
            "marker": {
             "colorbar": {
              "outlinewidth": 0,
              "ticks": ""
             }
            },
            "type": "scattermapbox"
           }
          ],
          "scatterpolar": [
           {
            "marker": {
             "colorbar": {
              "outlinewidth": 0,
              "ticks": ""
             }
            },
            "type": "scatterpolar"
           }
          ],
          "scatterpolargl": [
           {
            "marker": {
             "colorbar": {
              "outlinewidth": 0,
              "ticks": ""
             }
            },
            "type": "scatterpolargl"
           }
          ],
          "scatterternary": [
           {
            "marker": {
             "colorbar": {
              "outlinewidth": 0,
              "ticks": ""
             }
            },
            "type": "scatterternary"
           }
          ],
          "surface": [
           {
            "colorbar": {
             "outlinewidth": 0,
             "ticks": ""
            },
            "colorscale": [
             [
              0,
              "#0d0887"
             ],
             [
              0.1111111111111111,
              "#46039f"
             ],
             [
              0.2222222222222222,
              "#7201a8"
             ],
             [
              0.3333333333333333,
              "#9c179e"
             ],
             [
              0.4444444444444444,
              "#bd3786"
             ],
             [
              0.5555555555555556,
              "#d8576b"
             ],
             [
              0.6666666666666666,
              "#ed7953"
             ],
             [
              0.7777777777777778,
              "#fb9f3a"
             ],
             [
              0.8888888888888888,
              "#fdca26"
             ],
             [
              1,
              "#f0f921"
             ]
            ],
            "type": "surface"
           }
          ],
          "table": [
           {
            "cells": {
             "fill": {
              "color": "#EBF0F8"
             },
             "line": {
              "color": "white"
             }
            },
            "header": {
             "fill": {
              "color": "#C8D4E3"
             },
             "line": {
              "color": "white"
             }
            },
            "type": "table"
           }
          ]
         },
         "layout": {
          "annotationdefaults": {
           "arrowcolor": "#2a3f5f",
           "arrowhead": 0,
           "arrowwidth": 1
          },
          "autotypenumbers": "strict",
          "coloraxis": {
           "colorbar": {
            "outlinewidth": 0,
            "ticks": ""
           }
          },
          "colorscale": {
           "diverging": [
            [
             0,
             "#8e0152"
            ],
            [
             0.1,
             "#c51b7d"
            ],
            [
             0.2,
             "#de77ae"
            ],
            [
             0.3,
             "#f1b6da"
            ],
            [
             0.4,
             "#fde0ef"
            ],
            [
             0.5,
             "#f7f7f7"
            ],
            [
             0.6,
             "#e6f5d0"
            ],
            [
             0.7,
             "#b8e186"
            ],
            [
             0.8,
             "#7fbc41"
            ],
            [
             0.9,
             "#4d9221"
            ],
            [
             1,
             "#276419"
            ]
           ],
           "sequential": [
            [
             0,
             "#0d0887"
            ],
            [
             0.1111111111111111,
             "#46039f"
            ],
            [
             0.2222222222222222,
             "#7201a8"
            ],
            [
             0.3333333333333333,
             "#9c179e"
            ],
            [
             0.4444444444444444,
             "#bd3786"
            ],
            [
             0.5555555555555556,
             "#d8576b"
            ],
            [
             0.6666666666666666,
             "#ed7953"
            ],
            [
             0.7777777777777778,
             "#fb9f3a"
            ],
            [
             0.8888888888888888,
             "#fdca26"
            ],
            [
             1,
             "#f0f921"
            ]
           ],
           "sequentialminus": [
            [
             0,
             "#0d0887"
            ],
            [
             0.1111111111111111,
             "#46039f"
            ],
            [
             0.2222222222222222,
             "#7201a8"
            ],
            [
             0.3333333333333333,
             "#9c179e"
            ],
            [
             0.4444444444444444,
             "#bd3786"
            ],
            [
             0.5555555555555556,
             "#d8576b"
            ],
            [
             0.6666666666666666,
             "#ed7953"
            ],
            [
             0.7777777777777778,
             "#fb9f3a"
            ],
            [
             0.8888888888888888,
             "#fdca26"
            ],
            [
             1,
             "#f0f921"
            ]
           ]
          },
          "colorway": [
           "#636efa",
           "#EF553B",
           "#00cc96",
           "#ab63fa",
           "#FFA15A",
           "#19d3f3",
           "#FF6692",
           "#B6E880",
           "#FF97FF",
           "#FECB52"
          ],
          "font": {
           "color": "#2a3f5f"
          },
          "geo": {
           "bgcolor": "white",
           "lakecolor": "white",
           "landcolor": "#E5ECF6",
           "showlakes": true,
           "showland": true,
           "subunitcolor": "white"
          },
          "hoverlabel": {
           "align": "left"
          },
          "hovermode": "closest",
          "mapbox": {
           "style": "light"
          },
          "paper_bgcolor": "white",
          "plot_bgcolor": "#E5ECF6",
          "polar": {
           "angularaxis": {
            "gridcolor": "white",
            "linecolor": "white",
            "ticks": ""
           },
           "bgcolor": "#E5ECF6",
           "radialaxis": {
            "gridcolor": "white",
            "linecolor": "white",
            "ticks": ""
           }
          },
          "scene": {
           "xaxis": {
            "backgroundcolor": "#E5ECF6",
            "gridcolor": "white",
            "gridwidth": 2,
            "linecolor": "white",
            "showbackground": true,
            "ticks": "",
            "zerolinecolor": "white"
           },
           "yaxis": {
            "backgroundcolor": "#E5ECF6",
            "gridcolor": "white",
            "gridwidth": 2,
            "linecolor": "white",
            "showbackground": true,
            "ticks": "",
            "zerolinecolor": "white"
           },
           "zaxis": {
            "backgroundcolor": "#E5ECF6",
            "gridcolor": "white",
            "gridwidth": 2,
            "linecolor": "white",
            "showbackground": true,
            "ticks": "",
            "zerolinecolor": "white"
           }
          },
          "shapedefaults": {
           "line": {
            "color": "#2a3f5f"
           }
          },
          "ternary": {
           "aaxis": {
            "gridcolor": "white",
            "linecolor": "white",
            "ticks": ""
           },
           "baxis": {
            "gridcolor": "white",
            "linecolor": "white",
            "ticks": ""
           },
           "bgcolor": "#E5ECF6",
           "caxis": {
            "gridcolor": "white",
            "linecolor": "white",
            "ticks": ""
           }
          },
          "title": {
           "x": 0.05
          },
          "xaxis": {
           "automargin": true,
           "gridcolor": "white",
           "linecolor": "white",
           "ticks": "",
           "title": {
            "standoff": 15
           },
           "zerolinecolor": "white",
           "zerolinewidth": 2
          },
          "yaxis": {
           "automargin": true,
           "gridcolor": "white",
           "linecolor": "white",
           "ticks": "",
           "title": {
            "standoff": 15
           },
           "zerolinecolor": "white",
           "zerolinewidth": 2
          }
         }
        },
        "title": {
         "text": "Throughput vs Distance"
        },
        "xaxis": {
         "anchor": "y",
         "domain": [
          0,
          1
         ],
         "title": {
          "text": "Distance"
         }
        },
        "yaxis": {
         "anchor": "x",
         "domain": [
          0,
          1
         ],
         "title": {
          "text": "value"
         }
        }
       }
      }
     },
     "metadata": {},
     "output_type": "display_data"
    }
   ],
   "source": [
    "import subprocess\n",
    "import re\n",
    "import pandas as pd\n",
    "import numpy as np\n",
    "import plotly.express as px\n",
    "# Defining variables to use for the study\n",
    "default = True\n",
    "\n",
    "\n",
    "print('--- Fourth Study ---\\n')\n",
    "\n",
    "if(default): # \n",
    "    start = 100\n",
    "    stop = 3000\n",
    "    step = 100\n",
    "    duration = 1\n",
    "else:\n",
    "    start = input('Limite Min?')\n",
    "    stop = input('Limite Max?')\n",
    "    step = input('Passo?')\n",
    "    duration = input('Duracao?')\n",
    "\n",
    "distance = start \n",
    "\n",
    "cmd = f'./waf --run \"scratch/fourth_study --distance={distance} --duration={duration}\"'\n",
    "regex = r\"       Throughput: (\\d+\\.\\d+) Kbps\"\n",
    "rx = re.compile(regex)\n",
    "df = pd.DataFrame(columns=['Flow1','Flow2','Distance'],dtype= np.float64)\n",
    "for distance in range(start,stop,step):\n",
    "    i = int (distance - start)/step \n",
    "    print(f'#{i} Distance is {distance}m, duration {duration}, running command:\\n    ./waf --run \"scratch/fourth_study --distance={distance} --duration={duration}\"' )\n",
    "    process = subprocess.run([f'./waf --run \"scratch/fourth_study --distance={distance} --duration={duration}\"'], shell=True, check=True, stdout=subprocess.PIPE, universal_newlines=True)\n",
    "    output = rx.findall(process.stdout)\n",
    "    df.loc[i] = output+[distance]\n",
    "    print(f'Throughput Results:\\n    Flow 1 -> {output[0]} Kbps\\n    Flow 2 -> {output[1]} Kbps\\n\\n')\n",
    "\n",
    "fig = px.line(df, x=\"Distance\", y=[\"Flow1\",\"Flow2\"], title='Throughput vs Distance')\n",
    "fig.show()"
   ]
  },
  {
   "cell_type": "markdown",
   "metadata": {},
   "source": [
    "## Results to deliver\n",
    "- Report (maximum 4 pages – 1 page per study, 11pt) describing the experiments and the results\n",
    "### Confidence intervals\n",
    "- Simulations studies should always present confidence intervals.  The confidence intervals are obtained by running the same simulations multiple times using different runs or seeds\n",
    "- But, in this project, we will accept the results obtained from a single run for each experiment, provided that you generate a large number of packets. But please note that when we use queues, packet delays and packet losses are not independent from each other, so the obtained random sequences will not be IID, and we will be unable to characterize the confidence intervals for the estimated means and estimated probabilities"
   ]
  }
 ],
 "metadata": {
  "interpreter": {
   "hash": "916dbcbb3f70747c44a77c7bcd40155683ae19c65e1c03b4aa3499c5328201f1"
  },
  "kernelspec": {
   "display_name": "Python 3.8.10 64-bit",
   "language": "python",
   "name": "python3"
  },
  "language_info": {
   "codemirror_mode": {
    "name": "ipython",
    "version": 3
   },
   "file_extension": ".py",
   "mimetype": "text/x-python",
   "name": "python",
   "nbconvert_exporter": "python",
   "pygments_lexer": "ipython3",
   "version": "3.8.10"
  },
  "orig_nbformat": 4
 },
 "nbformat": 4,
 "nbformat_minor": 2
}
