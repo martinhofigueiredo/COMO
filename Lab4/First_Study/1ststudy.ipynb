{
 "cells": [
  {
   "cell_type": "markdown",
   "metadata": {},
   "source": [
    ">\n",
    ">Mobile Communications - FEUP - Network Simulation - WiFi\n",
    ">\n",
    "\n",
    "# Objectives of the Project\n",
    "- To study the performance of wireless network (WiFi) scenarios \n",
    "using discrete event simulation techniques\n",
    "- Using the network simulator [ns-3](https://www.nsnam.org/)\n",
    "\n",
    "\n",
    "## Install and start using ns-3\n",
    "- Install VMware or VirtualBox in your computer\n",
    "- Install Ubuntu as a virtual machine and build ns-3 within Ubuntu \n",
    "- You may use 2 alternatives\n",
    "1. Download and run the Ubuntu-COMO image available at the netlab (via moodle)\n",
    "    - includes complied ns-3 software and examples\n",
    "2. Do it by yourself\n",
    "    - Download the latest version of Ubuntu and update it\n",
    "        `sudo apt-get update ; sudo apt-get build-essential`\n",
    "    - Install Python\n",
    "    - Build ns-3 according to the ns-3 installation recommendations\n",
    "    - Copy the provided examples (available in Moodle) to the scratch folder \n",
    "- Study the provided examples (one example for each study)\n",
    "- Additionally, you may also study other ns-3 tutorials\n",
    "- Look at the ns-3 modules related to our course: \n",
    "    - network, applications, wifi, propagation, mobility\n",
    "- Start your study by using the provided examples"
   ]
  },
  {
   "cell_type": "markdown",
   "metadata": {},
   "source": [
    "## __First Study__ \n",
    "---\n",
    ">### 1 AP, 1 STA\n",
    "---\n",
    "- Assume that both the AP and the STA have full TCP/IP stacks\n",
    "- It simplifies the simulation script\n",
    "- Let the STA generate one TCP flow towards the AP\n",
    "- Carry out simulations for different distances between the STA and the AP\n",
    "- For each distance measure the average throughput obtained by the flow\n",
    "-Throughput (in bit/s) is measured at the node that receiving the information \n",
    "- Use both flowmon and wireshark to characterize throughputs Flowmon enables you to obtain relevant statistics, including histograms Wireshark enables you to observe packets along the time, including the TCP congestion control mechanism in action\n",
    "- Represent results as a  function of distance\n",
    "First Study -Throughput vs distance\n",
    "---\n",
    "Notes:\n",
    "\n",
    "- You may start at 100m. Lower `distances` result in about the same effective TCP throughput. \n",
    "- The maximum link `distance` is expected to be around 1450m. At 1500m there is no connectivity.\n",
    "- You may collect results with steps of 100m between 100m and 1500m. Decrease the step size if more resolution is needed for the resulting plot($s$).\n",
    "\n",
    "The default settings are:\n",
    "> ```duration=10``` ($s$)\n",
    ">\n",
    "> ```distance=100``` ($m$)\n",
    "\n",
    "You may change the parameters directly in the code and run the scenario without any argument:\n",
    "\n",
    "```./waf --run \"scratch/first_study\"```\n",
    "\n",
    "or feed the `distance` ($m$) between nodes and the `duraton` of the flow ($s$) you want to simulate via command line arguments:\n",
    "\n",
    "```./waf --run \"scratch/first_study --distance=100 --duration=60\"```\n"
   ]
  },
  {
   "cell_type": "code",
   "execution_count": null,
   "metadata": {
    "vscode": {
     "languageId": "python"
    }
   },
   "outputs": [],
   "source": [
    "\n",
    "\n",
    "auto = True\n",
    "\n",
    "print('First Study')\n",
    "\n",
    "if(auto):\n",
    "    start = 100\n",
    "    stop = 1500\n",
    "    step = 100\n",
    "    duration = 60\n",
    "else:\n",
    "    start = input('Limite Min?')\n",
    "    stop = input('Limite Max?')\n",
    "    step = input('Passo?')\n",
    "    duration = input('Duracao?')\n",
    "\n",
    "\n",
    "for i in range(start,stop,step):\n",
    "    print(f'i is {i}')\n",
    "    !./waf --run \"scratch/first_study --distance={i} --duration={duration}\" > test.txt\n",
    "    i =+ step"
   ]
  },
  {
   "cell_type": "code",
   "execution_count": null,
   "metadata": {
    "vscode": {
     "languageId": "python"
    }
   },
   "outputs": [],
   "source": [
    "import subprocess\n",
    "result = subprocess.run(['./waf', f'--run \"scratch/first_study --distance={i} --duration={duration}\"'], stdout=subprocess.PIPE)\n",
    "result.stdout"
   ]
  },
  {
   "cell_type": "markdown",
   "metadata": {},
   "source": [
    "## Second Study - Throughput vs number of STAs\n",
    "---\n",
    ">### 1 AP, n STA\n",
    "---\n",
    "\n",
    " Assume again that both the AP and the STAs have full TCP/IP stacks\n",
    "- Each STA generates one TCP flow  towards the AP\n",
    "- Carry out simulations for variable numbers of STA located around the AP\n",
    "- same distance for all STA, circumference around AP\n",
    "- For each number of STAs measure the throughput obtained by stations\n",
    "- aggregated (sum of all stations) and average\n",
    "- Represent results as a function of number of STAs\n",
    "---\n",
    "- The coded scenario starts each flow to the sink node between t=2.0s and t=4.0s of simulation time, to avoid collisions.\n",
    "- Try to simulate using longer `durations` so that the TCP throughput of each flow has a chance of stabilizing.\n",
    "- You may simulate, for example, up to 15 nodes. When increasing the number of senders, some TCP connection establishments may timeout, leaving some senders idle throughout the simulation.\n",
    "\n",
    "The default settings are:\n",
    "> ```duration=10``` ($s$)\n",
    ">\n",
    "> ```nr_of_senders=2``` ($nodes$)\n",
    "\n",
    "You may change the parameters directly in the code and run the scenario without any argument:\n",
    "\n",
    "```./waf --run \"scratch/second_study\"```\n",
    "\n",
    "or feed the `duration` of each flow ($s$) and the `number` of sender nodes you want to simulate via command line arguments:\n",
    "\n",
    "```./waf --run \"scratch/second_study --duration=60  --nr_of_senders=10\"```\n"
   ]
  },
  {
   "cell_type": "code",
   "execution_count": null,
   "metadata": {
    "vscode": {
     "languageId": "python"
    }
   },
   "outputs": [],
   "source": []
  },
  {
   "cell_type": "markdown",
   "metadata": {},
   "source": [
    "## Third Study - TCP Throughput vs UDP bitrate\n",
    "---\n",
    ">### 1 AP , 2 STA\n",
    "---\n",
    "- One STA generates one TCP flow towards the AP\n",
    "- The other STA generates a Constant BitRate UDP flow towards the AP \n",
    "- two ports in AP, one for each STA\n",
    "- Same distance for both STAs; the nodes can listen to each other\n",
    "- Carry out simulations for different bitrates generated by the UDP STA\n",
    "- Measure throughputs, delays and packet losses\n",
    "- Represent results as functions of the bitrate generated by the UDP STA\n",
    "---\n",
    "- Start the UDP flow at 1Mbit/s and increase it by 1Mbit/s steps until the link capacity is clearly exceeded (i.e., the UDP throughput at the sink node will stabilize, independently of how much more traffic is offered at the sender because it is lost).\n",
    "- When analysing the results, the node with ip=10.0.0.3 is the node sending the UDP flow.\n",
    "\n",
    "The default settings are:\n",
    "> `duration=10` ($s$)\n",
    ">\n",
    "> `udp_data_rate=1Mbps` \n",
    "\n",
    "You may change the parameters directly in the code and run the scenario without any argument:\n",
    "\n",
    "```./waf --run \"scratch/third_study\"```\n",
    "\n",
    "or feed the duration of the TCP and UDP flows ($s$) and the UDP data rate via command line arguments:\n",
    "\n",
    "```./waf --run \"scratch/third_study --duration=60  --udp_data_rate=1Mbps\"```\n"
   ]
  },
  {
   "cell_type": "code",
   "execution_count": null,
   "metadata": {
    "vscode": {
     "languageId": "python"
    }
   },
   "outputs": [],
   "source": []
  },
  {
   "cell_type": "markdown",
   "metadata": {},
   "source": [
    "## Fourth Study – Throughput vs distance with relay\n",
    "---\n",
    "### 1 AP, 1 RELAY, 1 STA, positioned in a line\n",
    "---\n",
    "- AP and the STA have full TCP/IP stacks\n",
    "- STA generates one TCP flow towards the AP\n",
    "    - The flow should be sent via the RELAY node\n",
    "- Carry out simulations for different distances d, considering\n",
    "    - `DistanceAP-STA= d |    DistanceAP-RELAY = DistanceRELAY-STA = d/2`\n",
    "- For each distance measure the average throughput obtained by the flow\n",
    "    - Throughput (in bit/s) measured at the AP\n",
    "- Represent results as a function of distance\n",
    "- Compare the results with the results obtained in the First Study\n",
    "- In which situations should a relay node be used? Why?\n",
    "---\n",
    "- You may start at 100m. Lower distances result in the same effective TCP throughput.\n",
    "- The maximum `distance` between the sender and the sink is expected to be around 2900m. At 3000m there is no connectivity.\n",
    "- You may collect results with steps of 100m between 100m and 3200m. Decrease the step size if more resolution is needed for the resulting plot($s$).\n",
    "- Compare the results with the ones obtained in the first study. Place them side by side in the same plot and elaborate some conclusions.\n",
    "\n",
    "The default settings are:\n",
    "> `duration=10` ($s$)\n",
    ">\n",
    "> `distance=100` ($m$)\n",
    "\n",
    "You may change the parameters directly in the code and run the scenario without any argument:\n",
    "\n",
    "`./waf --run \"scratch/fourth_study`\n",
    "\n",
    "or feed the `distance` ($m$) between sender and sink nodes (relay is placed at `distance/2`) and the duraton of the flow ($s$) you want to simulate via command line arguments:\n",
    "\n",
    "`./waf --run \"scratch/fourth_study --distance=100 --duration=60\"`"
   ]
  },
  {
   "cell_type": "code",
   "execution_count": null,
   "metadata": {
    "vscode": {
     "languageId": "python"
    }
   },
   "outputs": [],
   "source": []
  },
  {
   "cell_type": "markdown",
   "metadata": {},
   "source": [
    "## Results to deliver\n",
    "- Report (maximum 4 pages – 1 page per study, 11pt) describing the experiments and the results\n",
    "### Confidence intervals\n",
    "- Simulations studies should always present confidence intervals.  The confidence intervals are obtained by running the same simulations multiple times using different runs or seeds\n",
    "- But, in this project, we will accept the results obtained from a single run for each experiment, provided that you generate a large number of packets. But please note that when we use queues, packet delays and packet losses are not independent from each other, so the obtained random sequences will not be IID, and we will be unable to characterize the confidence intervals for the estimated means and estimated probabilities"
   ]
  }
 ],
 "metadata": {
  "kernelspec": {
   "display_name": "Python 3 (ipykernel)",
   "language": "python",
   "name": "python3"
  },
  "orig_nbformat": 4
 },
 "nbformat": 4,
 "nbformat_minor": 2
}
